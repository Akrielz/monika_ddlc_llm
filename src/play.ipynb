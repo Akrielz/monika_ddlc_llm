{
 "cells": [
  {
   "cell_type": "code",
   "id": "initial_id",
   "metadata": {
    "collapsed": true,
    "ExecuteTime": {
     "end_time": "2024-08-11T22:40:13.494097Z",
     "start_time": "2024-08-11T22:40:07.199652Z"
    }
   },
   "source": [
    "from src.llm.chat_gemma2 import ChatGemma2\n",
    "\n",
    "llm = ChatGemma2(character_name=\"Monika\", player_name=\"Akriel\", emotion_list=[\"happy\", \"neutral\", \"sad\"])"
   ],
   "outputs": [
    {
     "data": {
      "text/plain": [
       "Loading checkpoint shards:   0%|          | 0/2 [00:00<?, ?it/s]"
      ],
      "application/vnd.jupyter.widget-view+json": {
       "version_major": 2,
       "version_minor": 0,
       "model_id": "8ed6e107dbfd4932927b36d2f4ade373"
      }
     },
     "metadata": {},
     "output_type": "display_data"
    }
   ],
   "execution_count": 1
  },
  {
   "metadata": {
    "ExecuteTime": {
     "end_time": "2024-08-11T22:41:29.491267Z",
     "start_time": "2024-08-11T22:41:27.353863Z"
    }
   },
   "cell_type": "code",
   "source": [
    "from pprint import pprint\n",
    "\n",
    "llm.reset_messages()\n",
    "answer = llm.generate_answer(\n",
    "    \"How is the weather today?\",\n",
    ")\n",
    "pprint(answer)"
   ],
   "id": "dd66a4876002f7b7",
   "outputs": [
    {
     "name": "stdout",
     "output_type": "stream",
     "text": [
      "{'emotion': 'happy',\n",
      " 'response': '\\n'\n",
      "             \"It's... pleasant.  The sun's out, and the breeze is just right.  \"\n",
      "             'What about you?  Anything interesting happening in your world? '\n",
      "             '😊 \\n'}\n"
     ]
    }
   ],
   "execution_count": 4
  },
  {
   "metadata": {},
   "cell_type": "code",
   "outputs": [],
   "execution_count": null,
   "source": "",
   "id": "85440266107325b1"
  }
 ],
 "metadata": {
  "kernelspec": {
   "display_name": "Python 3",
   "language": "python",
   "name": "python3"
  },
  "language_info": {
   "codemirror_mode": {
    "name": "ipython",
    "version": 2
   },
   "file_extension": ".py",
   "mimetype": "text/x-python",
   "name": "python",
   "nbconvert_exporter": "python",
   "pygments_lexer": "ipython2",
   "version": "2.7.6"
  }
 },
 "nbformat": 4,
 "nbformat_minor": 5
}
